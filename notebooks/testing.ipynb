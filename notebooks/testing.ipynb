{
 "cells": [
  {
   "cell_type": "code",
   "execution_count": 1,
   "metadata": {},
   "outputs": [],
   "source": [
    "import sys\n",
    "sys.path.insert(0, \"../\")"
   ]
  },
  {
   "cell_type": "code",
   "execution_count": 2,
   "metadata": {
    "pycharm": {
     "name": "#%%\n"
    }
   },
   "outputs": [],
   "source": [
    "import numpy as np\n",
    "import matplotlib.pyplot as plt"
   ]
  },
  {
   "cell_type": "markdown",
   "metadata": {
    "pycharm": {
     "name": "#%% md\n"
    }
   },
   "source": [
    "Generating Synthesis Datasets"
   ]
  },
  {
   "cell_type": "markdown",
   "metadata": {
    "pycharm": {
     "name": "#%% md\n"
    }
   },
   "source": [
    "1. PM and VM types"
   ]
  },
  {
   "cell_type": "code",
   "execution_count": 3,
   "metadata": {
    "pycharm": {
     "name": "#%%\n"
    }
   },
   "outputs": [],
   "source": [
    "t2_types = [(1,1), (1,2), (2, 4)]\n",
    "t2_pm = (24, 32)\n",
    "\n",
    "m3_types = [(1, 3.75), (2, 7.5), (4, 15), (8, 30)]\n",
    "m3_pm = (40, 128)\n",
    "\n",
    "c3_types = [(2, 3,75), (4, 7.5), (8, 15), (16, 30), (32, 60)]\n",
    "c3_pm = (80, 128)\n",
    "\n",
    "r3_types = [(2, 15.25), (4, 30.5), (8, 61), (16, 122), (32, 244)]\n",
    "r3_pm = (80, 512)"
   ]
  },
  {
   "cell_type": "code",
   "execution_count": 4,
   "metadata": {
    "pycharm": {
     "name": "#%%\n"
    }
   },
   "outputs": [],
   "source": [
    "from vbin_packing.types import *\n",
    "from random import randint\n",
    "\n",
    "dataset_sizes = [1000, 5000, 10000, 25000]\n",
    "\n",
    "t2_sigmas = []\n",
    "m3_sigmas = []\n",
    "c3_sigmas = []\n",
    "r3_sigmas = []\n",
    "for size in dataset_sizes:\n",
    "    choices = len(t2_types) - 1\n",
    "    t2_sigma = [Item(Size(t2_types[randint(0, choices)])) for _ in range(size)]\n",
    "    t2_sigmas.append(t2_sigma)\n",
    "\n",
    "    choices = len(m3_types) - 1\n",
    "    m3_sigma = [Item(Size(m3_types[randint(0, choices)])) for _ in range(size)]\n",
    "    m3_sigmas.append(m3_sigma)\n",
    "\n",
    "    choices = len(c3_types) - 1\n",
    "    c3_sigma = [Item(Size(c3_types[randint(0, choices)])) for _ in range(size)]\n",
    "    c3_sigmas.append(c3_sigma)\n",
    "\n",
    "    choices = len(r3_types) - 1\n",
    "    r3_sigma = [Item(Size(r3_types[randint(0, choices)])) for _ in range(size)]\n",
    "    r3_sigmas.append(r3_sigma)"
   ]
  },
  {
   "cell_type": "code",
   "execution_count": 5,
   "metadata": {
    "pycharm": {
     "name": "#%%\n"
    }
   },
   "outputs": [
    {
     "name": "stdout",
     "output_type": "stream",
     "text": [
      "(75, 75, 78, 78, 75, 75, 78, 78)\n",
      "(359, 359, 377, 377, 359, 359, 377, 377)\n",
      "(733, 733, 767, 767, 733, 733, 767, 767)\n",
      "(1828, 1828, 1913, 1913, 1829, 1829, 1913, 1913)\n"
     ]
    }
   ],
   "source": [
    "from vbin_packing import algorithms\n",
    "\n",
    "def run_test(sigma, bin_size):\n",
    "    ff = algorithms.FirstFit(bin_size)\n",
    "    bf = algorithms.BestFit(bin_size)\n",
    "    ffd_pr = algorithms.FirstFitDecreasing(bin_size, sigma)\n",
    "    bfd_pr = algorithms.BestFitDecreasing(bin_size, sigma)\n",
    "    ffd_kd_0 = algorithms.FirstFitDecreasing(bin_size, sigma)\n",
    "    bfd_kd_0 = algorithms.BestFitDecreasing(bin_size, sigma)\n",
    "    ffd_kd_1 = algorithms.FirstFitDecreasing(bin_size, sigma)\n",
    "    bfd_kd_1 = algorithms.BestFitDecreasing(bin_size, sigma)\n",
    "    for item in sigma:\n",
    "        ff.pack_item(item)\n",
    "    for item in sigma:\n",
    "        bf.pack_item(item)\n",
    "    ffd_pr.solve(ffd_pr.PROD)\n",
    "    bfd_pr.solve(bfd_pr.PROD)\n",
    "    ffd_kd_0.solve(ffd_kd_0.KEY_DIM, dim=0)\n",
    "    ffd_kd_1.solve(ffd_kd_1.KEY_DIM, dim=1)\n",
    "    bfd_kd_0.solve(bfd_kd_0.KEY_DIM, dim=0)\n",
    "    bfd_kd_1.solve(bfd_kd_1.KEY_DIM, dim=1)\n",
    "    return ff.cost, bf.cost, ffd_pr.cost,bfd_pr.cost, ffd_kd_0.cost, bfd_kd_0.cost, ffd_kd_1.cost, bfd_kd_1.cost\n",
    "\n",
    "\n",
    "t2_results = []\n",
    "for sigma in t2_sigmas:\n",
    "    bin_size = Size(t2_pm)\n",
    "    results = run_test(sigma, bin_size)\n",
    "    print(results)\n",
    "    t2_results.append(results)\n",
    "\n"
   ]
  },
  {
   "cell_type": "code",
   "execution_count": 6,
   "metadata": {},
   "outputs": [
    {
     "name": "stdout",
     "output_type": "stream",
     "text": [
      "(108, 108, 108, 108, 108, 108, 108, 108)\n",
      "(545, 545, 545, 545, 545, 545, 545, 545)\n",
      "(1094, 1094, 1094, 1094, 1094, 1094, 1094, 1094)\n",
      "(2755, 2755, 2755, 2755, 2755, 2755, 2755, 2755)\n"
     ]
    }
   ],
   "source": [
    "m3_results = []\n",
    "for sigma in m3_sigmas:\n",
    "    bin_size = Size(m3_pm)\n",
    "    results = run_test(sigma, bin_size)\n",
    "    print(results)\n",
    "    m3_results.append(results)\n"
   ]
  },
  {
   "cell_type": "code",
   "execution_count": null,
   "metadata": {},
   "outputs": [
    {
     "name": "stdout",
     "output_type": "stream",
     "text": [
      "(187, 187, 188, 188, 187, 187, 187, 187)\n",
      "(944, 944, 946, 946, 942, 942, 942, 942)\n",
      "(1842, 1842, 1845, 1845, 1836, 1836, 1836, 1836)\n"
     ]
    }
   ],
   "source": [
    "c3_results = []\n",
    "for sigma in c3_sigmas:\n",
    "    bin_size = Size(c3_pm)\n",
    "    results = run_test(sigma, bin_size)\n",
    "    print(results)\n",
    "    c3_results.append(results)"
   ]
  },
  {
   "cell_type": "code",
   "execution_count": null,
   "metadata": {},
   "outputs": [],
   "source": [
    "r3_results = []\n",
    "for sigma in r3_sigmas:\n",
    "    bin_size = Size(r3_pm)\n",
    "    results = run_test(sigma, bin_size)\n",
    "    print(results)\n",
    "    r3_results.append(results)"
   ]
  }
 ],
 "metadata": {
  "kernelspec": {
   "display_name": "Python 3 (ipykernel)",
   "language": "python",
   "name": "python3"
  },
  "language_info": {
   "codemirror_mode": {
    "name": "ipython",
    "version": 3
   },
   "file_extension": ".py",
   "mimetype": "text/x-python",
   "name": "python",
   "nbconvert_exporter": "python",
   "pygments_lexer": "ipython3",
   "version": "3.10.5"
  }
 },
 "nbformat": 4,
 "nbformat_minor": 1
}